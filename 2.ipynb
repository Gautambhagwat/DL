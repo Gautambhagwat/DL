{
 "cells": [
  {
   "cell_type": "code",
   "execution_count": 1,
   "id": "dd746124",
   "metadata": {},
   "outputs": [],
   "source": [
    "import tensorflow as tf\n",
    "from tensorflow import keras\n",
    "import pandas as pd\n",
    "import numpy as np\n",
    "import matplotlib.pyplot as plt\n",
    "import random \n",
    "%matplotlib inline"
   ]
  },
  {
   "cell_type": "code",
   "execution_count": 2,
   "id": "d3ed7926",
   "metadata": {},
   "outputs": [
    {
     "name": "stdout",
     "output_type": "stream",
     "text": [
      "Downloading data from https://storage.googleapis.com/tensorflow/tf-keras-datasets/mnist.npz\n",
      "11490434/11490434 [==============================] - 9s 1us/step\n"
     ]
    }
   ],
   "source": [
    "#import dataset and split into train and test \n",
    "mnist = tf.keras.datasets.mnist\n",
    "(x_train,y_train),(x_test,y_test) = mnist.load_data()"
   ]
  },
  {
   "cell_type": "code",
   "execution_count": 3,
   "id": "70acaa61",
   "metadata": {},
   "outputs": [
    {
     "data": {
      "text/plain": [
       "<matplotlib.image.AxesImage at 0x1b82bfb3190>"
      ]
     },
     "execution_count": 3,
     "metadata": {},
     "output_type": "execute_result"
    },
    {
     "data": {
      "image/png": "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",
      "text/plain": [
       "<Figure size 480x480 with 1 Axes>"
      ]
     },
     "metadata": {},
     "output_type": "display_data"
    }
   ],
   "source": [
    "#to see how first image looks\n",
    "plt.matshow(x_train[0])"
   ]
  },
  {
   "cell_type": "code",
   "execution_count": 4,
   "id": "0d78e5bf",
   "metadata": {},
   "outputs": [],
   "source": [
    "#normalising the images by scaling the pixel intensities to the range 0 to 1\n",
    "x_train = x_train / 255\n",
    "x_test = x_test / 255"
   ]
  },
  {
   "cell_type": "code",
   "execution_count": 5,
   "id": "3afd77cb",
   "metadata": {},
   "outputs": [],
   "source": [
    "model = keras.Sequential([\n",
    "    keras.layers.Flatten(input_shape=(28,28)),\n",
    "    keras.layers.Dense(128,activation = 'relu'),\n",
    "    keras.layers.Dense(10,activation = 'softmax')\n",
    "])"
   ]
  },
  {
   "cell_type": "code",
   "execution_count": 6,
   "id": "f853ab52",
   "metadata": {},
   "outputs": [
    {
     "name": "stdout",
     "output_type": "stream",
     "text": [
      "Model: \"sequential\"\n",
      "_________________________________________________________________\n",
      " Layer (type)                Output Shape              Param #   \n",
      "=================================================================\n",
      " flatten (Flatten)           (None, 784)               0         \n",
      "                                                                 \n",
      " dense (Dense)               (None, 128)               100480    \n",
      "                                                                 \n",
      " dense_1 (Dense)             (None, 10)                1290      \n",
      "                                                                 \n",
      "=================================================================\n",
      "Total params: 101770 (397.54 KB)\n",
      "Trainable params: 101770 (397.54 KB)\n",
      "Non-trainable params: 0 (0.00 Byte)\n",
      "_________________________________________________________________\n"
     ]
    }
   ],
   "source": [
    "model.summary()"
   ]
  },
  {
   "cell_type": "markdown",
   "id": "4f0a3856",
   "metadata": {},
   "source": [
    "# Compile the model"
   ]
  },
  {
   "cell_type": "code",
   "execution_count": 7,
   "id": "e2f08ca6",
   "metadata": {},
   "outputs": [],
   "source": [
    "model.compile(optimizer = 'sgd',loss = 'sparse_categorical_crossentropy', metrics = ['accuracy'])"
   ]
  },
  {
   "cell_type": "markdown",
   "id": "72e6bbf4",
   "metadata": {},
   "source": [
    "# Train the Model"
   ]
  },
  {
   "cell_type": "code",
   "execution_count": 8,
   "id": "829568f2",
   "metadata": {},
   "outputs": [
    {
     "name": "stdout",
     "output_type": "stream",
     "text": [
      "Epoch 1/10\n",
      "1875/1875 [==============================] - 8s 4ms/step - loss: 0.6543 - accuracy: 0.8338 - val_loss: 0.3609 - val_accuracy: 0.9006\n",
      "Epoch 2/10\n",
      "1875/1875 [==============================] - 6s 3ms/step - loss: 0.3413 - accuracy: 0.9036 - val_loss: 0.3003 - val_accuracy: 0.9154\n",
      "Epoch 3/10\n",
      "1875/1875 [==============================] - 6s 3ms/step - loss: 0.2933 - accuracy: 0.9168 - val_loss: 0.2663 - val_accuracy: 0.9229\n",
      "Epoch 4/10\n",
      "1875/1875 [==============================] - 6s 3ms/step - loss: 0.2628 - accuracy: 0.9262 - val_loss: 0.2409 - val_accuracy: 0.9296\n",
      "Epoch 5/10\n",
      "1875/1875 [==============================] - 6s 3ms/step - loss: 0.2397 - accuracy: 0.9327 - val_loss: 0.2238 - val_accuracy: 0.9348\n",
      "Epoch 6/10\n",
      "1875/1875 [==============================] - 6s 3ms/step - loss: 0.2207 - accuracy: 0.9381 - val_loss: 0.2068 - val_accuracy: 0.9378\n",
      "Epoch 7/10\n",
      "1875/1875 [==============================] - 6s 3ms/step - loss: 0.2048 - accuracy: 0.9426 - val_loss: 0.1934 - val_accuracy: 0.9428\n",
      "Epoch 8/10\n",
      "1875/1875 [==============================] - 6s 3ms/step - loss: 0.1912 - accuracy: 0.9459 - val_loss: 0.1817 - val_accuracy: 0.9470\n",
      "Epoch 9/10\n",
      "1875/1875 [==============================] - 6s 3ms/step - loss: 0.1790 - accuracy: 0.9492 - val_loss: 0.1723 - val_accuracy: 0.9500\n",
      "Epoch 10/10\n",
      "1875/1875 [==============================] - 6s 3ms/step - loss: 0.1683 - accuracy: 0.9525 - val_loss: 0.1640 - val_accuracy: 0.9514\n"
     ]
    }
   ],
   "source": [
    "history = model.fit(x_train,y_train,validation_data = (x_test,y_test), epochs = 10)"
   ]
  },
  {
   "cell_type": "markdown",
   "id": "44b0b31d",
   "metadata": {},
   "source": [
    "# Evaluate the Model"
   ]
  },
  {
   "cell_type": "code",
   "execution_count": 9,
   "id": "01b1305a",
   "metadata": {},
   "outputs": [
    {
     "name": "stdout",
     "output_type": "stream",
     "text": [
      "313/313 [==============================] - 1s 3ms/step - loss: 0.1640 - accuracy: 0.9514\n",
      "Loss = 0.164\n",
      "Accuracy = 0.951\n"
     ]
    }
   ],
   "source": [
    "test_loss,test_acc = model.evaluate(x_test,y_test)\n",
    "print(\"Loss = %.3f\" %test_loss)\n",
    "print(\"Accuracy = %.3f\" %test_acc)"
   ]
  },
  {
   "cell_type": "markdown",
   "id": "a90aaddf",
   "metadata": {},
   "source": [
    "# Making Prediction on New Data"
   ]
  },
  {
   "cell_type": "code",
   "execution_count": 10,
   "id": "cb5c87d8",
   "metadata": {},
   "outputs": [
    {
     "data": {
      "image/png": "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",
      "text/plain": [
       "<Figure size 640x480 with 1 Axes>"
      ]
     },
     "metadata": {},
     "output_type": "display_data"
    }
   ],
   "source": [
    "n = random.randint(0,9999)\n",
    "plt.imshow(x_test[n])\n",
    "plt.show()"
   ]
  },
  {
   "cell_type": "markdown",
   "id": "fcde8c2a",
   "metadata": {},
   "source": [
    "# Confusion Matrix"
   ]
  },
  {
   "cell_type": "code",
   "execution_count": 11,
   "id": "87d4c10a",
   "metadata": {},
   "outputs": [
    {
     "name": "stdout",
     "output_type": "stream",
     "text": [
      "313/313 [==============================] - 1s 2ms/step\n",
      "Confusion Matrix of the Test Set :\n",
      " tf.Tensor(\n",
      "[[ 964    0    1    2    0    4    7    1    1    0]\n",
      " [   0 1111    3    2    1    1    4    3   10    0]\n",
      " [   8    1  975   10    7    3    5   10   11    2]\n",
      " [   0    0   15  955    1   13    2   11   10    3]\n",
      " [   2    1    3    1  939    0    8    1    3   24]\n",
      " [   8    1    1   22    3  834   11    1    6    5]\n",
      " [  11    3    4    1    6   10  919    2    2    0]\n",
      " [   1    6   18    5    6    1    0  975    1   15]\n",
      " [   4    2    6   14    9    7    9   11  909    3]\n",
      " [   9    5    1   12   27    5    1   10    6  933]], shape=(10, 10), dtype=int32)\n"
     ]
    }
   ],
   "source": [
    "test_predict = model.predict(x_test)\n",
    "#get classification labels\n",
    "test_predict_labels = np.argmax(test_predict,axis = 1)\n",
    "confusion_matrix = tf.math.confusion_matrix(labels = y_test, predictions = test_predict_labels)\n",
    "print('Confusion Matrix of the Test Set :\\n' , confusion_matrix)"
   ]
  },
  {
   "cell_type": "code",
   "execution_count": null,
   "id": "826ed943",
   "metadata": {},
   "outputs": [],
   "source": []
  }
 ],
 "metadata": {
  "kernelspec": {
   "display_name": "Python 3 (ipykernel)",
   "language": "python",
   "name": "python3"
  },
  "language_info": {
   "codemirror_mode": {
    "name": "ipython",
    "version": 3
   },
   "file_extension": ".py",
   "mimetype": "text/x-python",
   "name": "python",
   "nbconvert_exporter": "python",
   "pygments_lexer": "ipython3",
   "version": "3.12.7"
  }
 },
 "nbformat": 4,
 "nbformat_minor": 5
}

Feedforward Neural Network (MLP): A type of deep learning model where data flows in one direction from input to output. In this assignment, the MLP model is used for digit classification on the MNIST dataset.

Keras and TensorFlow: Keras, as an API within TensorFlow, allows easy model-building. TensorFlow is the underlying platform enabling machine learning with its powerful tools for defining and training neural networks.

MNIST Dataset: A widely-used dataset containing 28x28 grayscale images of handwritten digits, labeled from 0 to 9. It's often used for testing classification models due to its simplicity and high-quality data.

Network Architecture: The model consists of an input layer (Flatten layer) that converts image matrices into vectors, followed by a hidden Dense layer with ReLU activation for learning features, and an output Dense layer with softmax activation for classification.

Training and Evaluation: Using Stochastic Gradient Descent (SGD) for optimization, the model is trained and compiled with the sparse_categorical_crossentropy loss function, appropriate for multi-class classification. The model’s performance is measured in terms of accuracy, and it is visualized through graphs of loss and accuracy over epochs.

Model Generalization: Achieving over 90% accuracy is a key objective, with focus on methods to improve generalization, meaning the model should perform well on unseen data, not just the training set.

Evaluation Metrics: Final performance is assessed through accuracy and visual tools like confusion matrices, highlighting the classification accuracy per digit.

In this assignment, a Feedforward Neural Network (MLP) will be built and trained to classify handwritten digits from the MNIST dataset using Keras with TensorFlow. The steps include loading the MNIST dataset, defining the neural network architecture with one hidden layer, training the model using Stochastic Gradient Descent (SGD), and evaluating its performance. Key objectives are to understand model training and evaluation, achieve over 90% accuracy on the dataset, and research methods to improve generalization. TensorFlow's Keras API simplifies constructing the model, where a Flatten layer converts each image to a vector and Dense layers with ReLU and softmax activations perform the classification.

The model is compiled with the sparse_categorical_crossentropy loss function, ideal for multi-class problems, and is trained over 10 epochs, showing progressively improved accuracy and reduced loss, indicating effective learning. Results are visualized through graphs of training loss and accuracy, and the evaluate() method is used to check the model’s accuracy on test data. With a confusion matrix, the classification performance across each digit can be observed. Overall, this exercise showcases building a neural network model from scratch, training it, and achieving desired accuracy in image classification.
